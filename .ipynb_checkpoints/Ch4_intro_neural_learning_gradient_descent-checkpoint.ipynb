{
 "cells": [
  {
   "cell_type": "code",
   "execution_count": 1,
   "metadata": {},
   "outputs": [
    {
     "name": "stdout",
     "output_type": "stream",
     "text": [
      "0.30250000000000005\n"
     ]
    }
   ],
   "source": [
    "weight = 0.5\n",
    "input = 0.5\n",
    "goal_pred = 0.8\n",
    "\n",
    "pred = input * weight\n",
    "\n",
    "error = (pred - goal_pred) ** 2\n",
    "\n",
    "print(error)"
   ]
  },
  {
   "cell_type": "markdown",
   "metadata": {},
   "source": [
    "### Hot and Cold Learning _or_ Wiggle Them Weights"
   ]
  },
  {
   "cell_type": "code",
   "execution_count": 2,
   "metadata": {},
   "outputs": [],
   "source": [
    "weight = 0.1\n",
    "lr = 0.01\n",
    "\n",
    "def neural_network(input, weight):\n",
    "    prediction = input * weight\n",
    "    \n",
    "    return prediction"
   ]
  },
  {
   "cell_type": "code",
   "execution_count": 3,
   "metadata": {},
   "outputs": [
    {
     "name": "stdout",
     "output_type": "stream",
     "text": [
      "0.022499999999999975\n"
     ]
    }
   ],
   "source": [
    "toes = [8.5]\n",
    "# 1=win, 0=lose\n",
    "win_or_lose_bin = [1]\n",
    "\n",
    "input = toes[0]\n",
    "true = win_or_lose_bin[0]\n",
    "\n",
    "pred = neural_network(input, weight)\n",
    "\n",
    "error = (pred-true) ** 2\n",
    "print(error)"
   ]
  },
  {
   "cell_type": "code",
   "execution_count": 5,
   "metadata": {},
   "outputs": [
    {
     "name": "stdout",
     "output_type": "stream",
     "text": [
      "Wiggle up: 0.004224999999999993\n",
      "Wiggle down: 0.05522499999999994\n"
     ]
    }
   ],
   "source": [
    "lr = 0.01\n",
    "\n",
    "p_up = neural_network(input, weight+lr)\n",
    "error_up = (p_up-true) ** 2\n",
    "\n",
    "p_down = neural_network(input, weight-lr)\n",
    "error_down = (p_down-true) ** 2\n",
    "\n",
    "print('Wiggle up: {}'.format(error_up))\n",
    "print('Wiggle down: {}'.format(error_down))"
   ]
  },
  {
   "cell_type": "code",
   "execution_count": 7,
   "metadata": {},
   "outputs": [],
   "source": [
    "if (error > error_down or error > error_up):\n",
    "    if error_down < error_up:\n",
    "        weight -= lr\n",
    "    if error_up < error_down:\n",
    "        weight += lr"
   ]
  },
  {
   "cell_type": "markdown",
   "metadata": {},
   "source": [
    "##### Putting it all together"
   ]
  },
  {
   "cell_type": "code",
   "execution_count": 15,
   "metadata": {},
   "outputs": [
    {
     "name": "stdout",
     "output_type": "stream",
     "text": [
      "Error: 0.30250000000000005 ... Prediction: 0.25\n",
      "Error: 0.25 ... Prediction: 0.30000000000000004\n",
      "Error: 0.20249999999999996 ... Prediction: 0.3500000000000001\n",
      "Error: 0.15999999999999992 ... Prediction: 0.40000000000000013\n",
      "Error: 0.1224999999999999 ... Prediction: 0.4500000000000002\n",
      "Error: 0.0899999999999999 ... Prediction: 0.5000000000000002\n",
      "Error: 0.06250000000000266 ... Prediction: 0.5499999999999947\n",
      "Error: 0.04000000000000434 ... Prediction: 0.5999999999999892\n",
      "Error: 0.0225000000000049 ... Prediction: 0.6499999999999837\n",
      "Error: 0.01000000000000437 ... Prediction: 0.6999999999999782\n",
      "Error: 0.0025000000000027357 ... Prediction: 0.7499999999999727\n",
      "Error: 1.0799505792475652e-27 ... Prediction: 0.7999999999999672\n"
     ]
    }
   ],
   "source": [
    "weight = 0.5\n",
    "input = 0.5\n",
    "goal_prediction = 0.8\n",
    "print_every = 100\n",
    "\n",
    "step = 0.001\n",
    "\n",
    "for i in range(1101):\n",
    "    \n",
    "    prediction = input * weight\n",
    "    error = (prediction - goal_prediction) ** 2\n",
    "    \n",
    "    if i % print_every == 0 or i == 1101:\n",
    "        print(f'Error: {error} ... Prediction: {prediction}')\n",
    "    \n",
    "    up_prediction = input * (weight + step)\n",
    "    up_error = (goal_prediction - up_prediction) ** 2\n",
    "    \n",
    "    down_prediction = input * (weight - step)\n",
    "    down_error = (goal_prediction - down_prediction) ** 2\n",
    "    \n",
    "    if (down_error < up_error):\n",
    "        weight = weight - step\n",
    "    if (down_error > up_error):\n",
    "        weight = weight + step"
   ]
  },
  {
   "cell_type": "markdown",
   "metadata": {},
   "source": [
    "### Calculating both direction and amount from error"
   ]
  },
  {
   "cell_type": "code",
   "execution_count": 16,
   "metadata": {},
   "outputs": [
    {
     "name": "stdout",
     "output_type": "stream",
     "text": [
      "Error: 0.30250000000000005 ... Prediction: 0.25\n",
      "Error: 0.17015625000000004 ... Prediction: 0.3875\n",
      "Error: 0.095712890625 ... Prediction: 0.49062500000000003\n",
      "Error: 0.05383850097656251 ... Prediction: 0.56796875\n",
      "Error: 0.03028415679931642 ... Prediction: 0.6259765625\n",
      "Error: 0.0170348381996155 ... Prediction: 0.669482421875\n",
      "Error: 0.00958209648728372 ... Prediction: 0.70211181640625\n",
      "Error: 0.005389929274097089 ... Prediction: 0.7265838623046875\n",
      "Error: 0.0030318352166796153 ... Prediction: 0.7449378967285156\n",
      "Error: 0.0017054073093822882 ... Prediction: 0.7587034225463867\n",
      "Error: 0.0009592916115275371 ... Prediction: 0.76902756690979\n",
      "Error: 0.0005396015314842384 ... Prediction: 0.7767706751823426\n",
      "Error: 0.000303525861459885 ... Prediction: 0.7825780063867569\n",
      "Error: 0.00017073329707118678 ... Prediction: 0.7869335047900676\n",
      "Error: 9.603747960254256e-05 ... Prediction: 0.7902001285925507\n",
      "Error: 5.402108227642978e-05 ... Prediction: 0.7926500964444131\n",
      "Error: 3.038685878049206e-05 ... Prediction: 0.7944875723333098\n",
      "Error: 1.7092608064027242e-05 ... Prediction: 0.7958656792499823\n",
      "Error: 9.614592036015323e-06 ... Prediction: 0.7968992594374867\n",
      "Error: 5.408208020258491e-06 ... Prediction: 0.7976744445781151\n"
     ]
    }
   ],
   "source": [
    "weight = 0.5\n",
    "goal_pred = 0.8\n",
    "input = 0.5\n",
    "\n",
    "for i in range(20):\n",
    "    pred = input * weight\n",
    "    error = (pred - goal_pred) ** 2\n",
    "    direction_amount = (pred - goal_pred) * input\n",
    "    weight = weight - direction_amount\n",
    "    \n",
    "    print(f'Error: {error} ... Prediction: {pred}')"
   ]
  },
  {
   "cell_type": "markdown",
   "metadata": {},
   "source": [
    "### One iteration of gradient descent"
   ]
  },
  {
   "cell_type": "code",
   "execution_count": 17,
   "metadata": {},
   "outputs": [],
   "source": [
    "weight = 0.1\n",
    "alpha = 0.01\n",
    "\n",
    "def neural_network(input, weight):\n",
    "    pred = input * weight\n",
    "    \n",
    "    return pred"
   ]
  },
  {
   "cell_type": "code",
   "execution_count": null,
   "metadata": {},
   "outputs": [],
   "source": [
    "toes = [8.5]\n",
    "win_or_lose_bin = [1]\n",
    "\n",
    "input = toes[0]\n",
    "goal_pred = win_or_lose_bin[0]\n",
    "\n",
    "pred = neural_network(input, weight)\n",
    "error = (pred - goal_pred) ** 2\n",
    "\n",
    "# delta measures how much the node missed by\n",
    "delta = pred - goal_pred\n",
    "\n",
    "weight_delta = input * delta"
   ]
  },
  {
   "cell_type": "markdown",
   "metadata": {},
   "source": [
    "###### Putting the above together"
   ]
  },
  {
   "cell_type": "code",
   "execution_count": 20,
   "metadata": {
    "scrolled": true
   },
   "outputs": [
    {
     "name": "stdout",
     "output_type": "stream",
     "text": [
      "---------\n",
      "Weight: 0.0\n",
      "Error: 0.640 ... Prediction 0.000\n",
      "Delta: -0.800 ... Weight Delta: -0.880\n",
      "---------\n",
      "Weight: 0.8800000000000001\n",
      "Error: 0.028 ... Prediction 0.968\n",
      "Delta: 0.168 ... Weight Delta: 0.185\n",
      "---------\n",
      "Weight: 0.6951999999999999\n",
      "Error: 0.001 ... Prediction 0.765\n",
      "Delta: -0.035 ... Weight Delta: -0.039\n",
      "---------\n",
      "Weight: 0.734008\n",
      "Error: 0.000 ... Prediction 0.807\n",
      "Delta: 0.007 ... Weight Delta: 0.008\n"
     ]
    }
   ],
   "source": [
    "weight, goal_pred, input = (0.0, 0.8, 1.1)\n",
    "\n",
    "for i in range(4):\n",
    "    print('---------')\n",
    "    print(f'Weight: {weight}')\n",
    "    pred = input * weight\n",
    "    error = (pred - goal_pred) ** 2\n",
    "    delta = (pred - goal_pred)\n",
    "    weight_delta = delta * input\n",
    "    weight = weight - weight_delta\n",
    "    \n",
    "    print(f'Error: {error:.3f} ... Prediction {pred:.3f}')\n",
    "    print(f'Delta: {delta:.3f} ... Weight Delta: {weight_delta:.3f}')"
   ]
  },
  {
   "cell_type": "markdown",
   "metadata": {},
   "source": [
    "#### Breaking Gradient Descent"
   ]
  },
  {
   "cell_type": "code",
   "execution_count": 1,
   "metadata": {},
   "outputs": [
    {
     "name": "stdout",
     "output_type": "stream",
     "text": [
      "Error: 0.30250000000000005 ... Prediction 0.25\n",
      "Error: 0.17015625000000004 ... Prediction 0.3875\n",
      "Error: 0.095712890625 ... Prediction 0.49062500000000003\n",
      "Error: 0.05383850097656251 ... Prediction 0.56796875\n",
      "Error: 0.03028415679931642 ... Prediction 0.6259765625\n",
      "Error: 0.0170348381996155 ... Prediction 0.669482421875\n",
      "Error: 0.00958209648728372 ... Prediction 0.70211181640625\n",
      "Error: 0.005389929274097089 ... Prediction 0.7265838623046875\n",
      "Error: 0.0030318352166796153 ... Prediction 0.7449378967285156\n",
      "Error: 0.0017054073093822882 ... Prediction 0.7587034225463867\n",
      "Error: 0.0009592916115275371 ... Prediction 0.76902756690979\n",
      "Error: 0.0005396015314842384 ... Prediction 0.7767706751823426\n",
      "Error: 0.000303525861459885 ... Prediction 0.7825780063867569\n",
      "Error: 0.00017073329707118678 ... Prediction 0.7869335047900676\n",
      "Error: 9.603747960254256e-05 ... Prediction 0.7902001285925507\n",
      "Error: 5.402108227642978e-05 ... Prediction 0.7926500964444131\n",
      "Error: 3.038685878049206e-05 ... Prediction 0.7944875723333098\n",
      "Error: 1.7092608064027242e-05 ... Prediction 0.7958656792499823\n",
      "Error: 9.614592036015323e-06 ... Prediction 0.7968992594374867\n",
      "Error: 5.408208020258491e-06 ... Prediction 0.7976744445781151\n"
     ]
    }
   ],
   "source": [
    "weight = 0.5\n",
    "goal_pred = 0.8\n",
    "input = 0.5\n",
    "\n",
    "for i in range(20):\n",
    "    pred = input * weight\n",
    "    error = (pred - goal_pred) ** 2\n",
    "    \n",
    "    delta = pred - goal_pred\n",
    "    weight_delta = delta * input\n",
    "    weight -= weight_delta\n",
    "    \n",
    "    print(f'Error: {error} ... Prediction {pred}')"
   ]
  },
  {
   "cell_type": "markdown",
   "metadata": {},
   "source": [
    "###### Break it by changing input to 2, but trying to predict 0.8"
   ]
  },
  {
   "cell_type": "code",
   "execution_count": 2,
   "metadata": {},
   "outputs": [
    {
     "name": "stdout",
     "output_type": "stream",
     "text": [
      "Error: 0.03999999999999998 ... Prediction 1.0\n",
      "Error: 0.3599999999999998 ... Prediction 0.20000000000000018\n",
      "Error: 3.2399999999999984 ... Prediction 2.5999999999999996\n",
      "Error: 29.159999999999986 ... Prediction -4.599999999999999\n",
      "Error: 262.4399999999999 ... Prediction 16.999999999999996\n",
      "Error: 2361.959999999998 ... Prediction -47.79999999999998\n",
      "Error: 21257.639999999978 ... Prediction 146.59999999999994\n",
      "Error: 191318.75999999983 ... Prediction -436.5999999999998\n",
      "Error: 1721868.839999999 ... Prediction 1312.9999999999995\n",
      "Error: 15496819.559999991 ... Prediction -3935.799999999999\n",
      "Error: 139471376.03999993 ... Prediction 11810.599999999997\n",
      "Error: 1255242384.3599997 ... Prediction -35428.59999999999\n",
      "Error: 11297181459.239996 ... Prediction 106288.99999999999\n",
      "Error: 101674633133.15994 ... Prediction -318863.79999999993\n",
      "Error: 915071698198.4395 ... Prediction 956594.5999999997\n",
      "Error: 8235645283785.954 ... Prediction -2869780.599999999\n",
      "Error: 74120807554073.56 ... Prediction 8609344.999999996\n",
      "Error: 667087267986662.1 ... Prediction -25828031.799999986\n",
      "Error: 6003785411879960.0 ... Prediction 77484098.59999996\n",
      "Error: 5.403406870691965e+16 ... Prediction -232452292.5999999\n"
     ]
    }
   ],
   "source": [
    "weight = 0.5\n",
    "goal_pred = 0.8\n",
    "input = 2\n",
    "\n",
    "for i in range(20):\n",
    "    pred = input * weight\n",
    "    error = (pred - goal_pred) ** 2\n",
    "    \n",
    "    delta = pred - goal_pred\n",
    "    weight_delta = delta * input\n",
    "    weight -= weight_delta\n",
    "    \n",
    "    print(f'Error: {error} ... Prediction {pred}')"
   ]
  },
  {
   "cell_type": "markdown",
   "metadata": {},
   "source": [
    "###### When using delta * input to update your weights, if input is large the update will overcorrect and get worse and worse!\n",
    "###### This is called DIVERGENCE\n",
    "###### Use alpha (learn rate) to correct this!"
   ]
  },
  {
   "cell_type": "code",
   "execution_count": null,
   "metadata": {},
   "outputs": [],
   "source": []
  },
  {
   "cell_type": "markdown",
   "metadata": {},
   "source": [
    "###### Time to do it from memory.  Memorize the basics!!!"
   ]
  },
  {
   "cell_type": "code",
   "execution_count": 6,
   "metadata": {},
   "outputs": [
    {
     "name": "stdout",
     "output_type": "stream",
     "text": [
      "Error: 0.03999999999999998 ... Prediction: 1.0\n",
      "Error: 0.025599999999999973 ... Prediction: 0.96\n",
      "Error: 0.01638399999999997 ... Prediction: 0.9279999999999999\n",
      "Error: 0.010485759999999986 ... Prediction: 0.9024\n",
      "Error: 0.0067108863999999985 ... Prediction: 0.88192\n",
      "Error: 0.004294967296000005 ... Prediction: 0.8655360000000001\n",
      "Error: 0.0027487790694400056 ... Prediction: 0.8524288000000001\n",
      "Error: 0.0017592186044416036 ... Prediction: 0.8419430400000001\n",
      "Error: 0.0011258999068426293 ... Prediction: 0.8335544320000001\n",
      "Error: 0.0007205759403792803 ... Prediction: 0.8268435456000001\n",
      "Error: 0.0004611686018427404 ... Prediction: 0.8214748364800001\n",
      "Error: 0.0002951479051793546 ... Prediction: 0.8171798691840001\n",
      "Error: 0.00018889465931478573 ... Prediction: 0.8137438953472\n",
      "Error: 0.00012089258196146188 ... Prediction: 0.81099511627776\n",
      "Error: 7.737125245533561e-05 ... Prediction: 0.808796093022208\n",
      "Error: 4.9517601571414475e-05 ... Prediction: 0.8070368744177664\n",
      "Error: 3.1691265005705516e-05 ... Prediction: 0.8056294995342131\n",
      "Error: 2.028240960365133e-05 ... Prediction: 0.8045035996273705\n",
      "Error: 1.2980742146336532e-05 ... Prediction: 0.8036028797018964\n",
      "Error: 8.307674973655636e-06 ... Prediction: 0.8028823037615171\n"
     ]
    }
   ],
   "source": [
    "weight = 0.5\n",
    "goal_pred = 0.8\n",
    "input = 2\n",
    "\n",
    "learn_rate = 0.1\n",
    "\n",
    "for i in range(20):\n",
    "    pred = input * weight\n",
    "    error = (pred - goal_pred) ** 2\n",
    "    delta = (pred - goal_pred)\n",
    "    weight -= (delta * learn_rate)\n",
    "    \n",
    "    print(f'Error: {error} ... Prediction: {pred}')"
   ]
  },
  {
   "cell_type": "code",
   "execution_count": null,
   "metadata": {},
   "outputs": [],
   "source": []
  },
  {
   "cell_type": "code",
   "execution_count": null,
   "metadata": {},
   "outputs": [],
   "source": []
  },
  {
   "cell_type": "code",
   "execution_count": null,
   "metadata": {},
   "outputs": [],
   "source": []
  },
  {
   "cell_type": "code",
   "execution_count": 9,
   "metadata": {},
   "outputs": [
    {
     "name": "stdout",
     "output_type": "stream",
     "text": [
      "Error: 1.3688999999999998 ... Prediction: 0.03\n",
      "Error: 0.6707609999999999 ... Prediction: 0.381\n",
      "Error: 0.32867289000000005 ... Prediction: 0.6266999999999999\n",
      "Error: 0.16104971609999996 ... Prediction: 0.79869\n",
      "Error: 0.07891436088899999 ... Prediction: 0.919083\n",
      "Error: 0.03866803683560997 ... Prediction: 1.0033581\n",
      "Error: 0.018947338049448873 ... Prediction: 1.06235067\n",
      "Error: 0.009284195644229965 ... Prediction: 1.103645469\n",
      "Error: 0.004549255865672674 ... Prediction: 1.1325518283\n",
      "Error: 0.0022291353741796167 ... Prediction: 1.15278627981\n",
      "Error: 0.0010922763333480077 ... Prediction: 1.166950395867\n",
      "Error: 0.0005352154033405268 ... Prediction: 1.1768652771069\n",
      "Error: 0.0002622555476368617 ... Prediction: 1.1838056939748298\n",
      "Error: 0.00012850521834206226 ... Prediction: 1.1886639857823809\n",
      "Error: 6.29675569876098e-05 ... Prediction: 1.1920647900476666\n",
      "Error: 3.085410292392757e-05 ... Prediction: 1.1944453530333667\n",
      "Error: 1.5118510432724855e-05 ... Prediction: 1.1961117471233567\n",
      "Error: 7.408070112035058e-06 ... Prediction: 1.1972782229863497\n",
      "Error: 3.629954354897432e-06 ... Prediction: 1.1980947560904447\n",
      "Error: 1.7786776338996825e-06 ... Prediction: 1.1986663292633113\n"
     ]
    }
   ],
   "source": [
    "weight = 0.1\n",
    "input = 0.3\n",
    "goal_pred = 1.2\n",
    "learn_rate = 1\n",
    "\n",
    "for i in range(20):\n",
    "    pred = input * weight\n",
    "    error = (pred - goal_pred) ** 2\n",
    "    delta = (pred - goal_pred)\n",
    "    weight -= (delta * learn_rate)\n",
    "    \n",
    "    print(f'Error: {error} ... Prediction: {pred}')"
   ]
  }
 ],
 "metadata": {
  "kernelspec": {
   "display_name": "Python 3",
   "language": "python",
   "name": "python3"
  },
  "language_info": {
   "codemirror_mode": {
    "name": "ipython",
    "version": 3
   },
   "file_extension": ".py",
   "mimetype": "text/x-python",
   "name": "python",
   "nbconvert_exporter": "python",
   "pygments_lexer": "ipython3",
   "version": "3.7.6"
  }
 },
 "nbformat": 4,
 "nbformat_minor": 4
}
